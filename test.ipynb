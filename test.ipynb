{
 "cells": [
  {
   "cell_type": "markdown",
   "metadata": {},
   "source": []
  },
  {
   "cell_type": "code",
   "execution_count": 8,
   "metadata": {},
   "outputs": [],
   "source": [
    "\n",
    "import ultralytics\n",
    "from ultralytics import YOLO\n",
    "import cv2\n",
    "from sort.sort import *\n",
    "from utils import get_car,get_license,write_csv,new_write\n"
   ]
  },
  {
   "cell_type": "code",
   "execution_count": 9,
   "metadata": {},
   "outputs": [],
   "source": [
    "mot_tracker = Sort()"
   ]
  },
  {
   "cell_type": "code",
   "execution_count": 10,
   "metadata": {},
   "outputs": [],
   "source": [
    "model = YOLO('yolov8n.pt')"
   ]
  },
  {
   "cell_type": "code",
   "execution_count": 11,
   "metadata": {},
   "outputs": [],
   "source": [
    "license_model = YOLO('runs/detect/train2/weights/best.pt')"
   ]
  },
  {
   "cell_type": "code",
   "execution_count": 12,
   "metadata": {},
   "outputs": [],
   "source": [
    "results ={}"
   ]
  },
  {
   "cell_type": "code",
   "execution_count": 17,
   "metadata": {},
   "outputs": [
    {
     "name": "stdout",
     "output_type": "stream",
     "text": [
      "\n",
      "0: 416x640 2 cars, 2.2ms\n",
      "Speed: 15.5ms preprocess, 2.2ms inference, 0.6ms postprocess per image at shape (1, 3, 416, 640)\n",
      "\n"
     ]
    },
    {
     "name": "stdout",
     "output_type": "stream",
     "text": [
      "0: 416x640 1 LicensePlate, 2.4ms\n",
      "Speed: 1.2ms preprocess, 2.4ms inference, 0.5ms postprocess per image at shape (1, 3, 416, 640)\n",
      "\n",
      "0: 416x640 2 cars, 2.3ms\n",
      "Speed: 0.8ms preprocess, 2.3ms inference, 0.9ms postprocess per image at shape (1, 3, 416, 640)\n",
      "\n",
      "0: 416x640 1 LicensePlate, 2.0ms\n",
      "Speed: 0.9ms preprocess, 2.0ms inference, 0.5ms postprocess per image at shape (1, 3, 416, 640)\n",
      "\n",
      "0: 416x640 2 cars, 2.0ms\n",
      "Speed: 1.1ms preprocess, 2.0ms inference, 0.5ms postprocess per image at shape (1, 3, 416, 640)\n",
      "\n",
      "0: 416x640 1 LicensePlate, 1.9ms\n",
      "Speed: 0.8ms preprocess, 1.9ms inference, 0.8ms postprocess per image at shape (1, 3, 416, 640)\n",
      "\n",
      "0: 416x640 2 cars, 1.9ms\n",
      "Speed: 0.8ms preprocess, 1.9ms inference, 0.4ms postprocess per image at shape (1, 3, 416, 640)\n",
      "\n",
      "0: 416x640 1 LicensePlate, 2.4ms\n",
      "Speed: 1.0ms preprocess, 2.4ms inference, 0.5ms postprocess per image at shape (1, 3, 416, 640)\n",
      "\n",
      "0: 416x640 2 cars, 1.9ms\n",
      "Speed: 0.8ms preprocess, 1.9ms inference, 0.4ms postprocess per image at shape (1, 3, 416, 640)\n",
      "\n",
      "0: 416x640 1 LicensePlate, 2.0ms\n",
      "Speed: 0.8ms preprocess, 2.0ms inference, 1.0ms postprocess per image at shape (1, 3, 416, 640)\n",
      "\n",
      "0: 416x640 2 cars, 1.9ms\n",
      "Speed: 0.8ms preprocess, 1.9ms inference, 0.4ms postprocess per image at shape (1, 3, 416, 640)\n",
      "\n",
      "0: 416x640 1 LicensePlate, 2.8ms\n",
      "Speed: 1.7ms preprocess, 2.8ms inference, 0.7ms postprocess per image at shape (1, 3, 416, 640)\n",
      "\n",
      "0: 416x640 2 cars, 2.7ms\n",
      "Speed: 1.1ms preprocess, 2.7ms inference, 0.6ms postprocess per image at shape (1, 3, 416, 640)\n",
      "\n",
      "0: 416x640 1 LicensePlate, 2.4ms\n",
      "Speed: 1.0ms preprocess, 2.4ms inference, 1.0ms postprocess per image at shape (1, 3, 416, 640)\n",
      "\n",
      "0: 416x640 2 cars, 2.2ms\n",
      "Speed: 0.9ms preprocess, 2.2ms inference, 0.6ms postprocess per image at shape (1, 3, 416, 640)\n",
      "\n",
      "0: 416x640 1 LicensePlate, 2.1ms\n",
      "Speed: 1.0ms preprocess, 2.1ms inference, 0.6ms postprocess per image at shape (1, 3, 416, 640)\n",
      "\n",
      "0: 416x640 2 cars, 2.1ms\n",
      "Speed: 0.9ms preprocess, 2.1ms inference, 1.0ms postprocess per image at shape (1, 3, 416, 640)\n",
      "\n",
      "0: 416x640 1 LicensePlate, 2.1ms\n",
      "Speed: 0.8ms preprocess, 2.1ms inference, 0.4ms postprocess per image at shape (1, 3, 416, 640)\n",
      "\n",
      "0: 416x640 2 cars, 2.2ms\n",
      "Speed: 0.8ms preprocess, 2.2ms inference, 0.5ms postprocess per image at shape (1, 3, 416, 640)\n",
      "\n",
      "0: 416x640 1 LicensePlate, 2.4ms\n",
      "Speed: 1.1ms preprocess, 2.4ms inference, 0.5ms postprocess per image at shape (1, 3, 416, 640)\n"
     ]
    }
   ],
   "source": [
    "cap = cv2.VideoCapture('demo.mp4')\n",
    "#only need the car bike etc\n",
    "vehicle =[2,3,5,7] \n",
    "detection_ = []\n",
    "ret = True\n",
    "frame_nmr =-1\n",
    "while ret:\n",
    "    frame_nmr+=1\n",
    "    ret,frame = cap.read()\n",
    "    if  ret and frame_nmr < 10:\n",
    "        results[frame_nmr] = {} \n",
    "        \n",
    "        detections = model(frame)[0]\n",
    "        #will print x,y,x2,y2 ,confedence and classid \n",
    "        for detection in detections.boxes.data.tolist():\n",
    "            x1,y1,x2,y2,score,class_id = detection \n",
    "            if int(class_id) in vehicle:\n",
    "                detection_.append([x1,y1,x2,y2,score])\n",
    "       \n",
    "       \n",
    "        #track vehicles\n",
    "        #will have all the bounding box data and tracking id\n",
    "        track_ids = mot_tracker.update(np.asarray(detection_))\n",
    "\n",
    "        #now we need to detect licence plates\n",
    "        licence_plates =  license_model(frame)[0]\n",
    "        for licence_plate in licence_plates.boxes.data.tolist():\n",
    "            x1,y1,x2,y2,score,class_id = licence_plate \n",
    "\n",
    "            #connect car to licence plate using cutom funtion\n",
    "            xcar1,ycar1,xcar2,ycar2,car_id = get_car(licence_plate,track_ids)\n",
    "\n",
    "            #crop the licence plate\n",
    "            licence_plate_crop = frame[int(y1):int(y2),int(x1):int(x2)]\n",
    "\n",
    "            #process the coped licence plates\n",
    "            licence_plate_crop_gray = cv2.cvtColor(licence_plate_crop,cv2.COLOR_BGR2GRAY)\n",
    "            _,licence_plate_crop_thresh = cv2.threshold(licence_plate_crop_gray,64,255,cv2.THRESH_BINARY_INV)\n",
    "\n",
    "            # cv2.imshow('original',licence_plate_crop)\n",
    "            # cv2.imshow('threshold',licence_plate_crop_thresh)\n",
    "            # cv2.waitKey(0)\n",
    "\n",
    "            #read license plate number\n",
    "            license_plate_text,license_plate_text_score = get_license(licence_plate_crop_thresh)\n",
    "\n",
    "            if license_plate_text is not None:\n",
    "                results[frame_nmr][car_id] = {'car':{'bbox':[xcar1,ycar1,xcar2,ycar2]},\n",
    "                                             'licence_plate':{'bbox':[x1,y1,x2,y2],\n",
    "                                                              'text':license_plate_text,\n",
    "                                                              'bbox_score':score,\n",
    "                                                              'text_score':license_plate_text_score}}\n",
    "                \n",
    "\n",
    "\n",
    "\n",
    "new_write(results,'./test.csv')                \n",
    "                \n",
    "            \n",
    "            \n",
    "\n",
    "\n",
    "\n",
    "                \n",
    "        \n",
    "        \n"
   ]
  },
  {
   "cell_type": "code",
   "execution_count": null,
   "metadata": {},
   "outputs": [],
   "source": []
  }
 ],
 "metadata": {
  "kernelspec": {
   "display_name": "vision",
   "language": "python",
   "name": "vision"
  },
  "language_info": {
   "codemirror_mode": {
    "name": "ipython",
    "version": 3
   },
   "file_extension": ".py",
   "mimetype": "text/x-python",
   "name": "python",
   "nbconvert_exporter": "python",
   "pygments_lexer": "ipython3",
   "version": "3.9.18"
  }
 },
 "nbformat": 4,
 "nbformat_minor": 4
}
