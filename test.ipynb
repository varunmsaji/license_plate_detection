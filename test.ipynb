{
 "cells": [
  {
   "cell_type": "code",
   "execution_count": 1,
   "metadata": {},
   "outputs": [],
   "source": [
    "\n",
    "import ultralytics\n",
    "from ultralytics import YOLO\n",
    "import cv2\n",
    "from sort.sort import *\n",
    "from utils import get_car,read_license_plate"
   ]
  },
  {
   "cell_type": "code",
   "execution_count": 2,
   "metadata": {},
   "outputs": [],
   "source": [
    "mot_tracker = Sort()"
   ]
  },
  {
   "cell_type": "code",
   "execution_count": 3,
   "metadata": {},
   "outputs": [],
   "source": [
    "model = YOLO('yolov8n.pt')"
   ]
  },
  {
   "cell_type": "code",
   "execution_count": 4,
   "metadata": {},
   "outputs": [],
   "source": [
    "license_model = YOLO('runs/detect/train2/weights/best.pt')"
   ]
  },
  {
   "cell_type": "code",
   "execution_count": 5,
   "metadata": {},
   "outputs": [
    {
     "name": "stdout",
     "output_type": "stream",
     "text": [
      "\n",
      "0: 416x640 2 cars, 53.5ms\n",
      "Speed: 2.3ms preprocess, 53.5ms inference, 153.2ms postprocess per image at shape (1, 3, 416, 640)\n",
      "\n",
      "0: 416x640 1 LicensePlate, 4.8ms\n",
      "Speed: 0.8ms preprocess, 4.8ms inference, 1.2ms postprocess per image at shape (1, 3, 416, 640)\n"
     ]
    },
    {
     "ename": "error",
     "evalue": "OpenCV(4.9.0) /io/opencv/modules/highgui/src/window.cpp:1272: error: (-2:Unspecified error) The function is not implemented. Rebuild the library with Windows, GTK+ 2.x or Cocoa support. If you are on Ubuntu or Debian, install libgtk2.0-dev and pkg-config, then re-run cmake or configure script in function 'cvShowImage'\n",
     "output_type": "error",
     "traceback": [
      "\u001b[0;31m---------------------------------------------------------------------------\u001b[0m",
      "\u001b[0;31merror\u001b[0m                                     Traceback (most recent call last)",
      "Cell \u001b[0;32mIn[5], line 37\u001b[0m\n\u001b[1;32m     35\u001b[0m licence_plate_crop_gray \u001b[38;5;241m=\u001b[39m cv2\u001b[38;5;241m.\u001b[39mcvtColor(licence_plate_crop,cv2\u001b[38;5;241m.\u001b[39mCOLOR_BGR2GRAY)\n\u001b[1;32m     36\u001b[0m _,licence_plate_crop_thresh \u001b[38;5;241m=\u001b[39m cv2\u001b[38;5;241m.\u001b[39mthreshold(licence_plate_crop_gray,\u001b[38;5;241m64\u001b[39m,\u001b[38;5;241m255\u001b[39m,cv2\u001b[38;5;241m.\u001b[39mTHRESH_BINARY_INV)\n\u001b[0;32m---> 37\u001b[0m \u001b[43mcv2\u001b[49m\u001b[38;5;241;43m.\u001b[39;49m\u001b[43mimshow\u001b[49m\u001b[43m(\u001b[49m\u001b[38;5;124;43m'\u001b[39;49m\u001b[38;5;124;43moriginal\u001b[39;49m\u001b[38;5;124;43m'\u001b[39;49m\u001b[43m,\u001b[49m\u001b[43mlicence_plate_crop\u001b[49m\u001b[43m)\u001b[49m\n\u001b[1;32m     38\u001b[0m cv2\u001b[38;5;241m.\u001b[39mimshow(\u001b[38;5;124m'\u001b[39m\u001b[38;5;124mthreshold\u001b[39m\u001b[38;5;124m'\u001b[39m,licence_plate_crop_thresh)\n\u001b[1;32m     39\u001b[0m cv2\u001b[38;5;241m.\u001b[39mwaitKey(\u001b[38;5;241m0\u001b[39m)\n",
      "\u001b[0;31merror\u001b[0m: OpenCV(4.9.0) /io/opencv/modules/highgui/src/window.cpp:1272: error: (-2:Unspecified error) The function is not implemented. Rebuild the library with Windows, GTK+ 2.x or Cocoa support. If you are on Ubuntu or Debian, install libgtk2.0-dev and pkg-config, then re-run cmake or configure script in function 'cvShowImage'\n"
     ]
    }
   ],
   "source": [
    "cap = cv2.VideoCapture('demo.mp4')\n",
    "#only need the car bike etc\n",
    "vehicle =[2,3,5,7] \n",
    "detection_ = []\n",
    "ret = True\n",
    "frame_no =-1\n",
    "while ret:\n",
    "    frame_no+=1\n",
    "    ret,frame = cap.read()\n",
    "    if  ret and frame_no < 10:\n",
    "        pass \n",
    "        \n",
    "        detections = model(frame)[0]\n",
    "        #will print x,y,x2,y2 ,confedence and classid \n",
    "        for detection in detections.boxes.data.tolist():\n",
    "            x1,y1,x2,y2,score,class_id = detection \n",
    "            if int(class_id) in vehicle:\n",
    "                detection_.append([x1,y1,x2,y2,score])\n",
    "       \n",
    "       \n",
    "        #track vehicles\n",
    "        #will have all the bounding box data and tracking id\n",
    "        track_ids = mot_tracker.update(np.asarray(detection_))\n",
    "\n",
    "        #now we need to detect licence plates\n",
    "        licence_plates =  license_model(frame)[0]\n",
    "        for licence_plate in licence_plates.boxes.data.tolist():\n",
    "            x1,y1,x2,y2,score,class_id = licence_plate \n",
    "\n",
    "            #connect car to licence plate using cutom funtion\n",
    "            xcar1,ycar1,xcar2,ycar2,car_id = get_car(licence_plate,track_ids)\n",
    "            #crop the licence plate\n",
    "            licence_plate_crop = frame[int(y1):int(y2),int(x1):int(x2)]\n",
    "            #process the coped licence plates\n",
    "            licence_plate_crop_gray = cv2.cvtColor(licence_plate_crop,cv2.COLOR_BGR2GRAY)\n",
    "            _,licence_plate_crop_thresh = cv2.threshold(licence_plate_crop_gray,64,255,cv2.THRESH_BINARY_INV)\n",
    "            # cv2.imshow('original',licence_plate_crop)\n",
    "            # cv2.imshow('threshold',licence_plate_crop_thresh)\n",
    "            # cv2.waitKey(0)\n",
    "            #read license plate number\n",
    "            license_plate_text,license_plate_text_score= utils.read_license_plate(licence_plate_crop_thresh)\n",
    "            \n",
    "            \n",
    "\n",
    "\n",
    "\n",
    "                \n",
    "        \n",
    "        \n"
   ]
  },
  {
   "cell_type": "code",
   "execution_count": null,
   "metadata": {},
   "outputs": [],
   "source": []
  }
 ],
 "metadata": {
  "kernelspec": {
   "display_name": "vision",
   "language": "python",
   "name": "vision"
  },
  "language_info": {
   "codemirror_mode": {
    "name": "ipython",
    "version": 3
   },
   "file_extension": ".py",
   "mimetype": "text/x-python",
   "name": "python",
   "nbconvert_exporter": "python",
   "pygments_lexer": "ipython3",
   "version": "3.9.18"
  }
 },
 "nbformat": 4,
 "nbformat_minor": 4
}
